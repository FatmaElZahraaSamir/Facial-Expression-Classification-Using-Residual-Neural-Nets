{
  "nbformat": 4,
  "nbformat_minor": 0,
  "metadata": {
    "colab": {
      "name": "Facial_Expression_Classification.ipynb",
      "provenance": [],
      "collapsed_sections": []
    },
    "kernelspec": {
      "display_name": "Python 3",
      "language": "python",
      "name": "python3"
    },
    "language_info": {
      "codemirror_mode": {
        "name": "ipython",
        "version": 3
      },
      "file_extension": ".py",
      "mimetype": "text/x-python",
      "name": "python",
      "nbconvert_exporter": "python",
      "pygments_lexer": "ipython3",
      "version": "3.7.6"
    }
  },
  "cells": [
    {
      "cell_type": "markdown",
      "metadata": {
        "colab_type": "text",
        "id": "M27qF7CTrBqc"
      },
      "source": [
        "# 1: UNDERSTAND THE PROBLEM STATEMENT AND BUSINESS CASE\n"
      ]
    },
    {
      "cell_type": "markdown",
      "metadata": {
        "id": "AUskPYbLSZZM",
        "colab_type": "text"
      },
      "source": [
        "![alt text](https://github.com/FatmaElZahraaSamir/Facial-Expression-Classification-Using-Residual-Neural-Nets/blob/master/imgs/1.png)"
      ]
    },
    {
      "cell_type": "markdown",
      "metadata": {
        "colab_type": "text",
        "id": "gm5XNzpK1otp"
      },
      "source": [
        "# 2: IMPORT LIBRARIES AND DATASETS"
      ]
    },
    {
      "cell_type": "code",
      "metadata": {
        "colab_type": "code",
        "id": "vxW1hFtAirVF",
        "colab": {
          "base_uri": "https://localhost:8080/",
          "height": 71
        },
        "outputId": "d515346c-ef94-4a04-ad71-714f1f174276"
      },
      "source": [
        "import cv2\n",
        "import pandas as pd\n",
        "import seaborn as sns\n",
        "import matplotlib.pyplot as plt\n",
        "import numpy as np\n",
        "import os\n",
        "import PIL\n",
        "from tensorflow.keras import layers\n",
        "import tensorflow as tf\n",
        "import pickle\n",
        "from tensorflow.python.keras import *\n",
        "from tensorflow.keras.preprocessing.image import ImageDataGenerator\n",
        "from tensorflow.keras import layers, optimizers\n",
        "from tensorflow.keras.applications import DenseNet121\n",
        "from tensorflow.keras.applications.resnet50 import ResNet50\n",
        "from tensorflow.keras.layers import *\n",
        "from tensorflow.keras.models import Model, load_model\n",
        "from tensorflow.keras.initializers import glorot_uniform\n",
        "from tensorflow.keras.utils import plot_model\n",
        "from tensorflow.keras.callbacks import ReduceLROnPlateau, EarlyStopping, ModelCheckpoint, LearningRateScheduler\n",
        "from IPython.display import display\n",
        "from tensorflow.keras import backend as K\n"
      ],
      "execution_count": 1,
      "outputs": [
        {
          "output_type": "stream",
          "text": [
            "/usr/local/lib/python3.6/dist-packages/statsmodels/tools/_testing.py:19: FutureWarning: pandas.util.testing is deprecated. Use the functions in the public API at pandas.testing instead.\n",
            "  import pandas.util.testing as tm\n"
          ],
          "name": "stderr"
        }
      ]
    },
    {
      "cell_type": "code",
      "metadata": {
        "id": "xVXDMDxFSqUR",
        "colab_type": "code",
        "colab": {
          "base_uri": "https://localhost:8080/",
          "height": 122
        },
        "outputId": "27b3cbb2-6a79-403c-9765-0c1fa55de861"
      },
      "source": [
        "from google.colab import drive\n",
        "drive.mount('/content/drive')"
      ],
      "execution_count": 2,
      "outputs": [
        {
          "output_type": "stream",
          "text": [
            "Go to this URL in a browser: https://accounts.google.com/o/oauth2/auth?client_id=947318989803-6bn6qk8qdgf4n4g3pfee6491hc0brc4i.apps.googleusercontent.com&redirect_uri=urn%3aietf%3awg%3aoauth%3a2.0%3aoob&scope=email%20https%3a%2f%2fwww.googleapis.com%2fauth%2fdocs.test%20https%3a%2f%2fwww.googleapis.com%2fauth%2fdrive%20https%3a%2f%2fwww.googleapis.com%2fauth%2fdrive.photos.readonly%20https%3a%2f%2fwww.googleapis.com%2fauth%2fpeopleapi.readonly&response_type=code\n",
            "\n",
            "Enter your authorization code:\n",
            "4/3wFsZc2zWv8o2WmEWDdAHdfo7pLLkVzVRhhSfEgSPkqyaq_NCIVlHC8\n",
            "Mounted at /content/drive\n"
          ],
          "name": "stdout"
        }
      ]
    },
    {
      "cell_type": "code",
      "metadata": {
        "id": "KQKnBJMiSZZY",
        "colab_type": "code",
        "colab": {}
      },
      "source": [
        "# read the csv files\n",
        "emotion_df = pd.read_csv('/content/drive/My Drive/Colab Notebooks/emotion.csv')"
      ],
      "execution_count": 3,
      "outputs": []
    },
    {
      "cell_type": "code",
      "metadata": {
        "id": "1SUWeyu6SZZb",
        "colab_type": "code",
        "colab": {
          "base_uri": "https://localhost:8080/",
          "height": 419
        },
        "outputId": "d77e032d-1cd7-45f6-e9b1-aef5bac9b78b"
      },
      "source": [
        "emotion_df"
      ],
      "execution_count": 4,
      "outputs": [
        {
          "output_type": "execute_result",
          "data": {
            "text/html": [
              "<div>\n",
              "<style scoped>\n",
              "    .dataframe tbody tr th:only-of-type {\n",
              "        vertical-align: middle;\n",
              "    }\n",
              "\n",
              "    .dataframe tbody tr th {\n",
              "        vertical-align: top;\n",
              "    }\n",
              "\n",
              "    .dataframe thead th {\n",
              "        text-align: right;\n",
              "    }\n",
              "</style>\n",
              "<table border=\"1\" class=\"dataframe\">\n",
              "  <thead>\n",
              "    <tr style=\"text-align: right;\">\n",
              "      <th></th>\n",
              "      <th>emotion</th>\n",
              "      <th>pixels</th>\n",
              "    </tr>\n",
              "  </thead>\n",
              "  <tbody>\n",
              "    <tr>\n",
              "      <th>0</th>\n",
              "      <td>0</td>\n",
              "      <td>70 80 82 72 58 58 60 63 54 58 60 48 89 115 121...</td>\n",
              "    </tr>\n",
              "    <tr>\n",
              "      <th>1</th>\n",
              "      <td>0</td>\n",
              "      <td>151 150 147 155 148 133 111 140 170 174 182 15...</td>\n",
              "    </tr>\n",
              "    <tr>\n",
              "      <th>2</th>\n",
              "      <td>2</td>\n",
              "      <td>24 32 36 30 32 23 19 20 30 41 21 22 32 34 21 1...</td>\n",
              "    </tr>\n",
              "    <tr>\n",
              "      <th>3</th>\n",
              "      <td>2</td>\n",
              "      <td>20 17 19 21 25 38 42 42 46 54 56 62 63 66 82 1...</td>\n",
              "    </tr>\n",
              "    <tr>\n",
              "      <th>4</th>\n",
              "      <td>3</td>\n",
              "      <td>77 78 79 79 78 75 60 55 47 48 58 73 77 79 57 5...</td>\n",
              "    </tr>\n",
              "    <tr>\n",
              "      <th>...</th>\n",
              "      <td>...</td>\n",
              "      <td>...</td>\n",
              "    </tr>\n",
              "    <tr>\n",
              "      <th>24563</th>\n",
              "      <td>3</td>\n",
              "      <td>0 39 81 80 104 97 51 64 68 46 41 67 53 68 70 5...</td>\n",
              "    </tr>\n",
              "    <tr>\n",
              "      <th>24564</th>\n",
              "      <td>0</td>\n",
              "      <td>181 177 176 156 178 144 136 132 122 107 131 16...</td>\n",
              "    </tr>\n",
              "    <tr>\n",
              "      <th>24565</th>\n",
              "      <td>3</td>\n",
              "      <td>178 174 172 173 181 188 191 194 196 199 200 20...</td>\n",
              "    </tr>\n",
              "    <tr>\n",
              "      <th>24566</th>\n",
              "      <td>0</td>\n",
              "      <td>17 17 16 23 28 22 19 17 25 26 20 24 31 19 27 9...</td>\n",
              "    </tr>\n",
              "    <tr>\n",
              "      <th>24567</th>\n",
              "      <td>3</td>\n",
              "      <td>30 28 28 29 31 30 42 68 79 81 77 67 67 71 63 6...</td>\n",
              "    </tr>\n",
              "  </tbody>\n",
              "</table>\n",
              "<p>24568 rows × 2 columns</p>\n",
              "</div>"
            ],
            "text/plain": [
              "       emotion                                             pixels\n",
              "0            0  70 80 82 72 58 58 60 63 54 58 60 48 89 115 121...\n",
              "1            0  151 150 147 155 148 133 111 140 170 174 182 15...\n",
              "2            2  24 32 36 30 32 23 19 20 30 41 21 22 32 34 21 1...\n",
              "3            2  20 17 19 21 25 38 42 42 46 54 56 62 63 66 82 1...\n",
              "4            3  77 78 79 79 78 75 60 55 47 48 58 73 77 79 57 5...\n",
              "...        ...                                                ...\n",
              "24563        3  0 39 81 80 104 97 51 64 68 46 41 67 53 68 70 5...\n",
              "24564        0  181 177 176 156 178 144 136 132 122 107 131 16...\n",
              "24565        3  178 174 172 173 181 188 191 194 196 199 200 20...\n",
              "24566        0  17 17 16 23 28 22 19 17 25 26 20 24 31 19 27 9...\n",
              "24567        3  30 28 28 29 31 30 42 68 79 81 77 67 67 71 63 6...\n",
              "\n",
              "[24568 rows x 2 columns]"
            ]
          },
          "metadata": {
            "tags": []
          },
          "execution_count": 4
        }
      ]
    },
    {
      "cell_type": "code",
      "metadata": {
        "id": "RyXG_OMfSZZk",
        "colab_type": "code",
        "colab": {
          "base_uri": "https://localhost:8080/",
          "height": 34
        },
        "outputId": "47bb1b54-0d19-42e2-ced1-df0d42b67112"
      },
      "source": [
        "emotion_df['emotion'][2]"
      ],
      "execution_count": 5,
      "outputs": [
        {
          "output_type": "execute_result",
          "data": {
            "text/plain": [
              "2"
            ]
          },
          "metadata": {
            "tags": []
          },
          "execution_count": 5
        }
      ]
    },
    {
      "cell_type": "code",
      "metadata": {
        "id": "rC-viBKvSZZo",
        "colab_type": "code",
        "colab": {}
      },
      "source": [
        "emotion_df['pixels'] = emotion_df[' pixels'] # String format"
      ],
      "execution_count": 6,
      "outputs": []
    },
    {
      "cell_type": "code",
      "metadata": {
        "scrolled": true,
        "id": "TAud8AZrSZZs",
        "colab_type": "code",
        "colab": {
          "base_uri": "https://localhost:8080/",
          "height": 137
        },
        "outputId": "2bd569e4-3dbf-4ef0-a1a4-3c9f27775fec"
      },
      "source": [
        "emotion_df['pixels'][2] # String format"
      ],
      "execution_count": 7,
      "outputs": [
        {
          "output_type": "execute_result",
          "data": {
            "application/vnd.google.colaboratory.intrinsic+json": {
              "type": "string"
            },
            "text/plain": [
              "'24 32 36 30 32 23 19 20 30 41 21 22 32 34 21 19 43 52 13 26 40 59 65 12 20 63 99 98 98 111 75 62 41 73 118 140 192 186 187 188 190 190 187 182 176 173 172 173 25 34 29 35 29 26 20 23 19 31 22 21 20 31 26 17 34 75 37 18 38 80 85 25 38 26 34 97 94 76 86 95 70 39 98 129 185 188 188 189 190 190 188 182 176 173 172 173 26 29 25 35 25 30 20 21 16 28 34 26 15 17 19 22 29 62 64 47 45 76 76 78 65 82 12 14 56 56 72 74 66 65 86 129 172 190 187 189 190 190 187 182 177 172 172 174 26 33 32 31 25 33 26 21 16 16 37 27 14 15 12 17 31 38 40 58 73 59 35 82 68 72 43 22 33 52 51 66 71 57 71 121 160 191 188 189 190 190 187 184 178 173 173 174 29 40 29 29 32 32 28 26 19 13 23 34 17 18 14 15 26 25 21 40 82 44 29 34 36 32 36 59 55 38 46 64 71 62 60 107 137 191 189 190 190 190 188 184 178 175 173 175 33 39 25 33 37 33 25 30 20 18 18 23 20 22 20 17 33 20 18 25 37 31 22 29 28 24 29 38 67 38 35 75 68 66 58 89 110 179 191 189 189 190 187 184 179 175 173 174 32 41 32 31 39 33 26 34 27 23 28 30 21 24 29 22 26 23 21 22 33 28 28 26 28 23 27 21 61 53 24 72 78 64 54 84 94 155 195 189 191 190 188 184 179 174 172 173 28 46 40 29 42 34 31 39 37 30 33 33 28 23 30 31 24 19 17 18 27 25 27 23 25 24 23 13 40 69 29 45 74 74 59 88 88 145 196 188 191 191 188 183 178 174 172 174 27 44 42 35 42 34 39 40 41 37 33 33 34 31 32 35 32 19 19 18 16 17 22 21 23 25 22 14 30 74 36 32 62 75 59 89 94 139 194 188 191 191 187 184 179 174 173 174 28 38 38 42 41 36 51 44 37 40 35 33 29 38 38 43 39 28 23 19 22 24 26 27 26 29 21 17 37 75 31 32 49 55 57 102 108 138 193 189 191 192 189 184 180 176 174 174 29 33 30 34 41 39 46 45 37 38 38 34 28 39 41 44 36 37 28 29 32 34 35 34 33 33 27 23 39 72 28 22 44 70 82 127 100 137 194 189 190 189 188 185 181 176 174 176 29 32 28 24 40 35 35 30 30 31 38 29 31 37 30 34 30 41 52 57 58 56 53 45 50 40 46 24 30 60 27 64 120 130 141 139 85 149 194 187 189 188 187 185 181 177 175 176 34 24 33 27 26 27 27 21 24 28 34 27 33 30 23 26 27 52 91 125 125 119 100 89 88 84 66 24 48 57 89 137 155 159 175 155 105 173 193 189 189 189 187 185 181 177 175 176 33 74 146 130 75 24 23 20 20 23 26 24 27 24 24 31 60 118 156 158 156 155 141 135 131 108 42 68 73 97 140 146 164 178 186 191 156 185 189 189 188 188 186 184 180 177 175 176 45 121 121 162 155 61 17 22 21 23 22 21 21 24 29 62 127 165 170 163 166 159 144 128 103 53 67 99 90 129 148 153 175 195 201 180 174 188 187 188 188 187 186 184 180 177 176 176 64 105 116 165 150 143 45 17 19 23 23 22 23 25 52 122 166 171 172 174 169 160 152 128 91 97 124 119 123 144 151 157 179 177 143 154 184 187 188 189 189 187 186 183 180 177 176 176 125 93 150 159 133 143 106 33 49 27 24 25 23 44 120 166 170 165 159 142 132 120 117 119 129 131 128 132 135 142 146 158 144 94 131 185 185 186 187 188 189 187 185 183 179 176 175 176 201 82 161 117 85 143 158 109 119 67 21 39 86 132 168 173 171 167 161 148 134 123 102 89 100 102 97 108 124 131 152 118 75 138 131 170 185 186 187 188 189 187 185 183 178 175 175 175 225 80 130 122 84 146 145 162 159 129 31 94 168 172 170 170 167 162 143 117 112 77 50 47 65 100 127 135 129 137 157 56 73 168 181 180 185 187 188 189 189 187 184 181 178 174 173 175 217 80 78 165 127 109 119 169 173 163 108 138 172 168 172 171 165 158 140 101 65 43 44 56 38 95 141 160 146 166 142 62 116 171 198 180 185 186 188 188 187 186 183 181 177 174 173 175 194 64 36 127 178 168 113 132 172 166 153 158 170 170 171 173 171 168 165 161 139 96 72 69 53 111 163 170 155 163 187 143 162 205 204 180 186 187 188 188 187 185 184 181 177 174 173 175 144 55 54 51 146 177 158 154 173 169 160 165 168 161 145 136 164 172 167 153 137 132 117 90 85 134 168 176 162 160 212 197 188 208 203 182 188 187 189 189 187 186 184 181 177 174 173 175 127 79 91 61 47 157 160 166 161 164 160 154 148 153 146 105 131 154 146 145 128 108 118 104 114 127 156 166 156 163 207 190 185 207 194 181 183 185 180 180 184 181 183 180 176 174 172 174 136 102 122 138 60 73 130 139 138 153 137 142 122 135 140 114 89 144 117 108 116 110 110 103 97 107 142 145 139 151 202 157 159 189 167 175 162 172 158 161 159 171 186 181 177 173 173 174 153 136 152 203 144 60 110 128 142 143 137 141 130 125 138 122 73 141 138 121 82 131 108 94 95 113 137 150 150 151 201 147 145 185 172 163 160 161 158 169 164 179 184 180 176 172 172 173 163 167 189 211 200 74 106 158 143 153 158 145 140 145 158 133 70 135 142 145 80 114 128 104 97 125 154 155 169 165 193 196 154 204 194 172 186 179 180 181 180 183 182 180 175 172 171 174 182 200 209 210 215 126 96 166 162 163 165 166 150 146 182 165 78 134 170 168 75 88 125 109 95 138 161 168 177 165 172 200 182 209 195 187 188 190 189 188 187 185 182 179 175 171 171 172 204 206 211 213 215 177 80 152 158 159 160 170 162 141 178 169 92 130 182 174 84 65 109 109 89 137 149 151 153 137 143 178 190 209 185 182 187 186 185 185 185 183 181 177 173 170 170 171 206 209 211 213 213 202 117 123 161 153 154 172 170 143 173 169 111 131 182 177 106 51 91 109 112 109 111 132 140 150 198 209 203 215 207 190 182 184 185 185 184 183 182 178 174 170 169 170 206 209 211 214 213 208 169 100 150 147 145 166 172 143 171 171 124 135 178 174 128 45 76 109 127 136 144 164 182 190 202 215 218 178 200 226 211 192 181 184 184 183 182 179 174 169 167 168 210 209 210 214 214 210 196 112 118 149 138 159 171 138 159 164 123 139 176 169 149 45 64 117 144 155 172 199 200 201 199 226 193 157 165 189 217 231 208 181 179 180 180 177 172 169 166 167 211 210 210 213 214 212 205 156 81 137 136 144 157 136 136 149 135 142 176 161 181 80 35 84 118 147 178 186 188 146 129 194 141 149 124 105 145 192 232 211 178 180 181 178 172 169 165 166 209 212 210 211 214 213 207 191 98 87 135 128 143 151 135 151 150 137 158 142 159 146 50 38 76 160 166 160 156 78 135 129 116 124 60 70 97 146 206 225 180 177 178 177 172 168 164 165 197 211 211 210 211 213 209 200 155 60 95 117 126 155 147 136 150 141 143 147 132 130 103 110 166 180 161 159 123 83 136 82 122 50 33 80 131 170 198 213 179 177 178 177 172 168 164 165 181 191 217 209 209 211 208 202 184 104 51 92 100 126 151 144 157 155 152 157 133 107 111 154 176 171 154 160 106 55 50 78 104 25 41 94 145 186 208 201 178 179 179 178 173 167 163 163 180 159 205 211 208 209 207 201 187 151 64 55 85 94 139 156 164 157 160 167 151 129 138 170 172 159 153 164 74 35 52 90 57 22 82 154 172 181 209 192 176 178 177 177 173 167 162 162 153 160 171 209 207 207 206 200 190 167 109 47 65 78 115 158 166 162 159 168 159 146 162 172 167 141 165 149 19 30 41 54 35 62 146 170 178 191 209 184 176 178 177 178 174 167 161 161 160 163 141 183 208 204 204 199 188 173 140 74 54 73 94 156 170 167 162 166 158 155 169 169 151 138 176 161 20 28 48 52 46 124 167 179 184 201 205 179 178 177 177 176 173 165 160 158 157 169 141 140 198 202 201 200 187 173 151 111 68 79 92 148 170 167 166 168 163 162 170 161 151 157 179 187 36 34 42 46 98 141 163 179 182 201 196 175 177 176 175 175 172 165 159 156 118 164 162 115 164 202 198 201 191 177 158 133 99 101 126 154 163 168 167 169 163 164 166 162 165 162 171 202 67 43 51 99 139 149 161 166 174 195 187 176 177 176 176 175 171 165 158 153 101 133 171 130 118 183 196 199 195 184 166 150 127 131 162 168 162 166 166 167 163 165 164 164 165 159 167 204 96 54 94 128 138 156 166 165 172 191 179 176 176 176 174 173 170 164 157 151 118 103 147 156 105 145 192 196 195 188 178 171 145 151 181 171 164 167 170 168 164 168 167 164 162 156 163 202 122 76 99 103 129 151 156 166 183 194 173 174 173 173 173 173 170 164 156 152 135 106 109 151 129 112 174 189 192 190 188 181 166 145 175 171 148 166 169 169 167 166 167 164 162 158 162 198 142 89 95 95 119 141 148 163 197 194 170 172 172 172 172 171 169 165 158 152 157 131 95 119 143 109 140 181 184 188 187 184 176 155 144 158 128 158 170 169 169 167 167 165 165 161 160 193 173 98 101 103 116 132 138 164 206 190 164 168 167 168 169 168 166 163 157 152 184 160 119 94 125 127 111 163 174 182 184 183 180 168 147 149 119 146 171 168 169 168 169 169 168 161 155 183 216 120 102 101 110 128 130 150 203 183 156 163 163 163 164 165 163 161 157 151 159 185 157 107 99 128 114 132 167 173 179 179 178 171 159 158 156 146 169 169 169 170 169 167 169 167 164 183 235 162 105 105 105 126 137 149 198 199 150 156 157 157 159 160 160 157 156 153 136 157 187 152 104 109 124 115 147 163 170 172 173 170 163 160 172 177 168 170 168 170 168 170 173 177 188 198 232 202 116 108 108 124 138 147 185 219 157 140 144 144 146 147 151 152 152 150 145 130 161 184 141 105 118 119 124 150 161 167 169 167 162 164 169 181 172 168 169 170 174 179 180 182 196 208 226 230 140 113 114 125 135 141 172 214 174 126 132 132 133 136 139 142 143 142'"
            ]
          },
          "metadata": {
            "tags": []
          },
          "execution_count": 7
        }
      ]
    },
    {
      "cell_type": "code",
      "metadata": {
        "id": "luNnyl5YSZZv",
        "colab_type": "code",
        "colab": {}
      },
      "source": [
        "# function to convert pixel values in string format to array format\n",
        "def string2array(x):\n",
        "  return np.array(x.split(' ')).reshape(48, 48, 1).astype('float32')"
      ],
      "execution_count": 8,
      "outputs": []
    },
    {
      "cell_type": "code",
      "metadata": {
        "id": "Zjaog81lSZZy",
        "colab_type": "code",
        "colab": {}
      },
      "source": [
        "emotion_df['pixels'] = emotion_df['pixels'].apply(lambda x: string2array(x))"
      ],
      "execution_count": 9,
      "outputs": []
    },
    {
      "cell_type": "code",
      "metadata": {
        "id": "5GV8VdEiSZZ1",
        "colab_type": "code",
        "colab": {
          "base_uri": "https://localhost:8080/",
          "height": 34
        },
        "outputId": "a94d3c28-3cb6-4778-a7ad-7140da52ae38"
      },
      "source": [
        "emotion_df['pixels'][2].shape"
      ],
      "execution_count": 10,
      "outputs": [
        {
          "output_type": "execute_result",
          "data": {
            "text/plain": [
              "(48, 48, 1)"
            ]
          },
          "metadata": {
            "tags": []
          },
          "execution_count": 10
        }
      ]
    },
    {
      "cell_type": "code",
      "metadata": {
        "id": "KxBA7-ztSZZ5",
        "colab_type": "code",
        "colab": {
          "base_uri": "https://localhost:8080/",
          "height": 850
        },
        "outputId": "d209b15c-8ab0-4519-cb9b-86b7bd78ad9a"
      },
      "source": [
        "emotion_df['pixels'][2]"
      ],
      "execution_count": 11,
      "outputs": [
        {
          "output_type": "execute_result",
          "data": {
            "text/plain": [
              "array([[[ 24.],\n",
              "        [ 32.],\n",
              "        [ 36.],\n",
              "        ...,\n",
              "        [173.],\n",
              "        [172.],\n",
              "        [173.]],\n",
              "\n",
              "       [[ 25.],\n",
              "        [ 34.],\n",
              "        [ 29.],\n",
              "        ...,\n",
              "        [173.],\n",
              "        [172.],\n",
              "        [173.]],\n",
              "\n",
              "       [[ 26.],\n",
              "        [ 29.],\n",
              "        [ 25.],\n",
              "        ...,\n",
              "        [172.],\n",
              "        [172.],\n",
              "        [174.]],\n",
              "\n",
              "       ...,\n",
              "\n",
              "       [[159.],\n",
              "        [185.],\n",
              "        [157.],\n",
              "        ...,\n",
              "        [157.],\n",
              "        [156.],\n",
              "        [153.]],\n",
              "\n",
              "       [[136.],\n",
              "        [157.],\n",
              "        [187.],\n",
              "        ...,\n",
              "        [152.],\n",
              "        [152.],\n",
              "        [150.]],\n",
              "\n",
              "       [[145.],\n",
              "        [130.],\n",
              "        [161.],\n",
              "        ...,\n",
              "        [142.],\n",
              "        [143.],\n",
              "        [142.]]], dtype=float32)"
            ]
          },
          "metadata": {
            "tags": []
          },
          "execution_count": 11
        }
      ]
    },
    {
      "cell_type": "code",
      "metadata": {
        "id": "-uIWABWkSZZ8",
        "colab_type": "code",
        "colab": {
          "base_uri": "https://localhost:8080/",
          "height": 85
        },
        "outputId": "b226baf0-80ce-4760-fd5b-e93e0d28039e"
      },
      "source": [
        "# checking for the presence of null values in the data frame\n",
        "emotion_df.isnull().sum()"
      ],
      "execution_count": 12,
      "outputs": [
        {
          "output_type": "execute_result",
          "data": {
            "text/plain": [
              "emotion    0\n",
              " pixels    0\n",
              "pixels     0\n",
              "dtype: int64"
            ]
          },
          "metadata": {
            "tags": []
          },
          "execution_count": 12
        }
      ]
    },
    {
      "cell_type": "code",
      "metadata": {
        "id": "cqsk9H9dSZZ_",
        "colab_type": "code",
        "colab": {}
      },
      "source": [
        "label_to_text = {0:'anger', 1:'disgust', 2:'sad', 3:'happiness', 4: 'surprise'}"
      ],
      "execution_count": 13,
      "outputs": []
    },
    {
      "cell_type": "markdown",
      "metadata": {
        "id": "o5LVbhHHSZaC",
        "colab_type": "text"
      },
      "source": [
        "- Visualize the first image in the dataframe and make sure that the image is not distorted by reshaping operation\n"
      ]
    },
    {
      "cell_type": "code",
      "metadata": {
        "id": "q6WiDtcgSZaD",
        "colab_type": "code",
        "colab": {
          "base_uri": "https://localhost:8080/",
          "height": 284
        },
        "outputId": "2f3ad1c1-ba0c-47ff-8edd-e373bdabd7fb"
      },
      "source": [
        "plt.imshow(emotion_df['pixels'][0].squeeze(), cmap = 'gray' )"
      ],
      "execution_count": 14,
      "outputs": [
        {
          "output_type": "execute_result",
          "data": {
            "text/plain": [
              "<matplotlib.image.AxesImage at 0x7f92a9db9cc0>"
            ]
          },
          "metadata": {
            "tags": []
          },
          "execution_count": 14
        },
        {
          "output_type": "display_data",
          "data": {
            "image/png": "[encoded data removed]",
            "text/plain": [
              "<Figure size 432x288 with 1 Axes>"
            ]
          },
          "metadata": {
            "tags": [],
            "needs_background": "light"
          }
        }
      ]
    },
    {
      "cell_type": "markdown",
      "metadata": {
        "id": "pQ6JkVnMSZaG",
        "colab_type": "text"
      },
      "source": [
        "# 3: PERFORM DATA VISUALIZATION"
      ]
    },
    {
      "cell_type": "code",
      "metadata": {
        "id": "0XWzzKOOSZaG",
        "colab_type": "code",
        "colab": {
          "base_uri": "https://localhost:8080/",
          "height": 1000
        },
        "outputId": "37801bcc-63bd-4d36-add7-49cedaa034f8"
      },
      "source": [
        "emotions = [0,1,2,3,4]\n",
        "\n",
        "for i in emotions:\n",
        "  data = emotion_df[emotion_df['emotion'] == i][:1]\n",
        "  img = data['pixels'].item()\n",
        "  img = img.reshape(48,48)\n",
        "  plt.figure()\n",
        "  plt.title(label_to_text[i])\n",
        "  plt.imshow(img, cmap= 'gray')"
      ],
      "execution_count": 15,
      "outputs": [
        {
          "output_type": "display_data",
          "data": {
            "image/png": "[encoded data removed]",
            "text/plain": [
              "<Figure size 432x288 with 1 Axes>"
            ]
          },
          "metadata": {
            "tags": [],
            "needs_background": "light"
          }
        },
        {
          "output_type": "display_data",
          "data": {
            "image/png": "[encoded data removed]",
            "text/plain": [
              "<Figure size 432x288 with 1 Axes>"
            ]
          },
          "metadata": {
            "tags": [],
            "needs_background": "light"
          }
        },
        {
          "output_type": "display_data",
          "data": {
            "image/png": "[encoded data removed]",
            "text/plain": [
              "<Figure size 432x288 with 1 Axes>"
            ]
          },
          "metadata": {
            "tags": [],
            "needs_background": "light"
          }
        },
        {
          "output_type": "display_data",
          "data": {
            "image/png": "[encoded data removed]",
            "text/plain": [
              "<Figure size 432x288 with 1 Axes>"
            ]
          },
          "metadata": {
            "tags": [],
            "needs_background": "light"
          }
        },
        {
          "output_type": "display_data",
          "data": {
            "image/png": "[encoded data removed]",
            "text/plain": [
              "<Figure size 432x288 with 1 Axes>"
            ]
          },
          "metadata": {
            "tags": [],
            "needs_background": "light"
          }
        }
      ]
    },
    {
      "cell_type": "markdown",
      "metadata": {
        "id": "vnFDMr9MSZaJ",
        "colab_type": "text"
      },
      "source": [
        "- Plot barplot showing how many samples are present per emotion"
      ]
    },
    {
      "cell_type": "code",
      "metadata": {
        "id": "641V2hGhSZaK",
        "colab_type": "code",
        "colab": {
          "base_uri": "https://localhost:8080/",
          "height": 624
        },
        "outputId": "f6d27783-13f3-46d4-c24a-3401360d4030"
      },
      "source": [
        "plt.figure(figsize = (10, 10))\n",
        "sns.barplot(x = emotion_df.emotion.value_counts().index, y = emotion_df.emotion.value_counts())\n",
        "plt.title('Number of images per emotion')"
      ],
      "execution_count": 16,
      "outputs": [
        {
          "output_type": "execute_result",
          "data": {
            "text/plain": [
              "Text(0.5, 1.0, 'Number of images per emotion')"
            ]
          },
          "metadata": {
            "tags": []
          },
          "execution_count": 16
        },
        {
          "output_type": "display_data",
          "data": {
            "image/png": "[encoded data removed]",
            "text/plain": [
              "<Figure size 720x720 with 1 Axes>"
            ]
          },
          "metadata": {
            "tags": [],
            "needs_background": "light"
          }
        }
      ]
    },
    {
      "cell_type": "markdown",
      "metadata": {
        "id": "K5FoI7HJSZaO",
        "colab_type": "text"
      },
      "source": [
        "# 4: PERFORM DATA AUGMENTATION"
      ]
    },
    {
      "cell_type": "code",
      "metadata": {
        "id": "Av9648MeSZaP",
        "colab_type": "code",
        "colab": {
          "base_uri": "https://localhost:8080/",
          "height": 850
        },
        "outputId": "121ef9f7-5f0b-472a-ceab-a20f19181181"
      },
      "source": [
        "emotion_df['pixels'][10]"
      ],
      "execution_count": 17,
      "outputs": [
        {
          "output_type": "execute_result",
          "data": {
            "text/plain": [
              "array([[[219.],\n",
              "        [192.],\n",
              "        [179.],\n",
              "        ...,\n",
              "        [184.],\n",
              "        [225.],\n",
              "        [150.]],\n",
              "\n",
              "       [[197.],\n",
              "        [179.],\n",
              "        [ 63.],\n",
              "        ...,\n",
              "        [212.],\n",
              "        [206.],\n",
              "        [133.]],\n",
              "\n",
              "       [[169.],\n",
              "        [166.],\n",
              "        [ 65.],\n",
              "        ...,\n",
              "        [234.],\n",
              "        [169.],\n",
              "        [115.]],\n",
              "\n",
              "       ...,\n",
              "\n",
              "       [[ 21.],\n",
              "        [ 21.],\n",
              "        [ 36.],\n",
              "        ...,\n",
              "        [ 26.],\n",
              "        [ 33.],\n",
              "        [ 79.]],\n",
              "\n",
              "       [[ 31.],\n",
              "        [ 30.],\n",
              "        [ 44.],\n",
              "        ...,\n",
              "        [ 31.],\n",
              "        [ 69.],\n",
              "        [ 62.]],\n",
              "\n",
              "       [[ 31.],\n",
              "        [ 34.],\n",
              "        [ 53.],\n",
              "        ...,\n",
              "        [ 57.],\n",
              "        [ 39.],\n",
              "        [ 40.]]], dtype=float32)"
            ]
          },
          "metadata": {
            "tags": []
          },
          "execution_count": 17
        }
      ]
    },
    {
      "cell_type": "code",
      "metadata": {
        "id": "ohTdDwJdSZaT",
        "colab_type": "code",
        "colab": {
          "base_uri": "https://localhost:8080/",
          "height": 34
        },
        "outputId": "1306ade9-18b3-49e9-921c-d92f2dee7cae"
      },
      "source": [
        "X = emotion_df['pixels']\n",
        "X.shape"
      ],
      "execution_count": 18,
      "outputs": [
        {
          "output_type": "execute_result",
          "data": {
            "text/plain": [
              "(24568,)"
            ]
          },
          "metadata": {
            "tags": []
          },
          "execution_count": 18
        }
      ]
    },
    {
      "cell_type": "code",
      "metadata": {
        "id": "onn2aGoGSZaW",
        "colab_type": "code",
        "colab": {
          "base_uri": "https://localhost:8080/",
          "height": 34
        },
        "outputId": "9cf9d1fb-817c-430f-9d18-30d0f9b24eb9"
      },
      "source": [
        "# split the dataframe to features and labels\n",
        "# from keras.utils import to_categorical\n",
        "\n",
        "X = emotion_df['pixels']\n",
        "# y = to_categorical(emotion_df['emotion'])\n",
        "y = pd.get_dummies(emotion_df['emotion'])\n",
        "\n",
        "X = np.stack(X, axis = 0)\n",
        "X = X.reshape(24568, 48, 48, 1)\n",
        "\n",
        "print(X.shape, y.shape)"
      ],
      "execution_count": 19,
      "outputs": [
        {
          "output_type": "stream",
          "text": [
            "(24568, 48, 48, 1) (24568, 5)\n"
          ],
          "name": "stdout"
        }
      ]
    },
    {
      "cell_type": "code",
      "metadata": {
        "id": "6m4njhChSZac",
        "colab_type": "code",
        "colab": {
          "base_uri": "https://localhost:8080/",
          "height": 1000
        },
        "outputId": "24d02f09-cbd6-4c6b-be91-db4d8f501e9d"
      },
      "source": [
        "X"
      ],
      "execution_count": 20,
      "outputs": [
        {
          "output_type": "execute_result",
          "data": {
            "text/plain": [
              "array([[[[ 70.],\n",
              "         [ 80.],\n",
              "         [ 82.],\n",
              "         ...,\n",
              "         [ 52.],\n",
              "         [ 43.],\n",
              "         [ 41.]],\n",
              "\n",
              "        [[ 65.],\n",
              "         [ 61.],\n",
              "         [ 58.],\n",
              "         ...,\n",
              "         [ 56.],\n",
              "         [ 52.],\n",
              "         [ 44.]],\n",
              "\n",
              "        [[ 50.],\n",
              "         [ 43.],\n",
              "         [ 54.],\n",
              "         ...,\n",
              "         [ 49.],\n",
              "         [ 56.],\n",
              "         [ 47.]],\n",
              "\n",
              "        ...,\n",
              "\n",
              "        [[ 91.],\n",
              "         [ 65.],\n",
              "         [ 42.],\n",
              "         ...,\n",
              "         [ 72.],\n",
              "         [ 56.],\n",
              "         [ 43.]],\n",
              "\n",
              "        [[ 77.],\n",
              "         [ 82.],\n",
              "         [ 79.],\n",
              "         ...,\n",
              "         [105.],\n",
              "         [ 70.],\n",
              "         [ 46.]],\n",
              "\n",
              "        [[ 77.],\n",
              "         [ 72.],\n",
              "         [ 84.],\n",
              "         ...,\n",
              "         [106.],\n",
              "         [109.],\n",
              "         [ 82.]]],\n",
              "\n",
              "\n",
              "       [[[151.],\n",
              "         [150.],\n",
              "         [147.],\n",
              "         ...,\n",
              "         [129.],\n",
              "         [140.],\n",
              "         [120.]],\n",
              "\n",
              "        [[151.],\n",
              "         [149.],\n",
              "         [149.],\n",
              "         ...,\n",
              "         [122.],\n",
              "         [141.],\n",
              "         [137.]],\n",
              "\n",
              "        [[151.],\n",
              "         [151.],\n",
              "         [156.],\n",
              "         ...,\n",
              "         [109.],\n",
              "         [123.],\n",
              "         [146.]],\n",
              "\n",
              "        ...,\n",
              "\n",
              "        [[188.],\n",
              "         [188.],\n",
              "         [121.],\n",
              "         ...,\n",
              "         [185.],\n",
              "         [185.],\n",
              "         [186.]],\n",
              "\n",
              "        [[188.],\n",
              "         [187.],\n",
              "         [196.],\n",
              "         ...,\n",
              "         [186.],\n",
              "         [182.],\n",
              "         [187.]],\n",
              "\n",
              "        [[186.],\n",
              "         [184.],\n",
              "         [185.],\n",
              "         ...,\n",
              "         [193.],\n",
              "         [183.],\n",
              "         [184.]]],\n",
              "\n",
              "\n",
              "       [[[ 24.],\n",
              "         [ 32.],\n",
              "         [ 36.],\n",
              "         ...,\n",
              "         [173.],\n",
              "         [172.],\n",
              "         [173.]],\n",
              "\n",
              "        [[ 25.],\n",
              "         [ 34.],\n",
              "         [ 29.],\n",
              "         ...,\n",
              "         [173.],\n",
              "         [172.],\n",
              "         [173.]],\n",
              "\n",
              "        [[ 26.],\n",
              "         [ 29.],\n",
              "         [ 25.],\n",
              "         ...,\n",
              "         [172.],\n",
              "         [172.],\n",
              "         [174.]],\n",
              "\n",
              "        ...,\n",
              "\n",
              "        [[159.],\n",
              "         [185.],\n",
              "         [157.],\n",
              "         ...,\n",
              "         [157.],\n",
              "         [156.],\n",
              "         [153.]],\n",
              "\n",
              "        [[136.],\n",
              "         [157.],\n",
              "         [187.],\n",
              "         ...,\n",
              "         [152.],\n",
              "         [152.],\n",
              "         [150.]],\n",
              "\n",
              "        [[145.],\n",
              "         [130.],\n",
              "         [161.],\n",
              "         ...,\n",
              "         [142.],\n",
              "         [143.],\n",
              "         [142.]]],\n",
              "\n",
              "\n",
              "       ...,\n",
              "\n",
              "\n",
              "       [[[178.],\n",
              "         [174.],\n",
              "         [172.],\n",
              "         ...,\n",
              "         [ 78.],\n",
              "         [ 41.],\n",
              "         [ 57.]],\n",
              "\n",
              "        [[181.],\n",
              "         [178.],\n",
              "         [178.],\n",
              "         ...,\n",
              "         [126.],\n",
              "         [ 63.],\n",
              "         [ 64.]],\n",
              "\n",
              "        [[181.],\n",
              "         [176.],\n",
              "         [176.],\n",
              "         ...,\n",
              "         [177.],\n",
              "         [145.],\n",
              "         [ 82.]],\n",
              "\n",
              "        ...,\n",
              "\n",
              "        [[193.],\n",
              "         [191.],\n",
              "         [187.],\n",
              "         ...,\n",
              "         [  1.],\n",
              "         [  1.],\n",
              "         [  0.]],\n",
              "\n",
              "        [[193.],\n",
              "         [192.],\n",
              "         [191.],\n",
              "         ...,\n",
              "         [  0.],\n",
              "         [  0.],\n",
              "         [  0.]],\n",
              "\n",
              "        [[194.],\n",
              "         [191.],\n",
              "         [192.],\n",
              "         ...,\n",
              "         [  0.],\n",
              "         [  0.],\n",
              "         [  0.]]],\n",
              "\n",
              "\n",
              "       [[[ 17.],\n",
              "         [ 17.],\n",
              "         [ 16.],\n",
              "         ...,\n",
              "         [ 83.],\n",
              "         [114.],\n",
              "         [245.]],\n",
              "\n",
              "        [[ 18.],\n",
              "         [ 17.],\n",
              "         [ 16.],\n",
              "         ...,\n",
              "         [104.],\n",
              "         [136.],\n",
              "         [253.]],\n",
              "\n",
              "        [[ 19.],\n",
              "         [ 16.],\n",
              "         [ 17.],\n",
              "         ...,\n",
              "         [128.],\n",
              "         [152.],\n",
              "         [255.]],\n",
              "\n",
              "        ...,\n",
              "\n",
              "        [[  4.],\n",
              "         [ 21.],\n",
              "         [ 46.],\n",
              "         ...,\n",
              "         [186.],\n",
              "         [180.],\n",
              "         [187.]],\n",
              "\n",
              "        [[  5.],\n",
              "         [ 17.],\n",
              "         [ 41.],\n",
              "         ...,\n",
              "         [177.],\n",
              "         [172.],\n",
              "         [176.]],\n",
              "\n",
              "        [[ 20.],\n",
              "         [ 15.],\n",
              "         [ 22.],\n",
              "         ...,\n",
              "         [154.],\n",
              "         [133.],\n",
              "         [113.]]],\n",
              "\n",
              "\n",
              "       [[[ 30.],\n",
              "         [ 28.],\n",
              "         [ 28.],\n",
              "         ...,\n",
              "         [ 60.],\n",
              "         [ 50.],\n",
              "         [ 44.]],\n",
              "\n",
              "        [[ 30.],\n",
              "         [ 27.],\n",
              "         [ 28.],\n",
              "         ...,\n",
              "         [ 64.],\n",
              "         [ 52.],\n",
              "         [ 40.]],\n",
              "\n",
              "        [[ 31.],\n",
              "         [ 28.],\n",
              "         [ 30.],\n",
              "         ...,\n",
              "         [ 61.],\n",
              "         [ 54.],\n",
              "         [ 37.]],\n",
              "\n",
              "        ...,\n",
              "\n",
              "        [[104.],\n",
              "         [109.],\n",
              "         [110.],\n",
              "         ...,\n",
              "         [ 35.],\n",
              "         [ 30.],\n",
              "         [ 30.]],\n",
              "\n",
              "        [[102.],\n",
              "         [105.],\n",
              "         [108.],\n",
              "         ...,\n",
              "         [ 35.],\n",
              "         [ 31.],\n",
              "         [ 29.]],\n",
              "\n",
              "        [[ 93.],\n",
              "         [ 96.],\n",
              "         [100.],\n",
              "         ...,\n",
              "         [ 35.],\n",
              "         [ 30.],\n",
              "         [ 28.]]]], dtype=float32)"
            ]
          },
          "metadata": {
            "tags": []
          },
          "execution_count": 20
        }
      ]
    },
    {
      "cell_type": "code",
      "metadata": {
        "id": "thMH5jRaSZaf",
        "colab_type": "code",
        "colab": {}
      },
      "source": [
        "X = np.array(X)\n",
        "y = np.array(y)"
      ],
      "execution_count": 21,
      "outputs": []
    },
    {
      "cell_type": "code",
      "metadata": {
        "id": "EmoVtIXvSZai",
        "colab_type": "code",
        "colab": {}
      },
      "source": [
        "# spliting the dataframe in to train,test and validation data frames\n",
        "\n",
        "from sklearn.model_selection import train_test_split\n",
        "\n",
        "X_train, X_Test, y_train, y_Test = train_test_split(X,y,test_size = 0.1, shuffle = True)\n",
        "X_val, X_Test, y_val, y_Test = train_test_split(X_Test,y_Test, test_size = 0.5, shuffle = True)\n"
      ],
      "execution_count": 22,
      "outputs": []
    },
    {
      "cell_type": "code",
      "metadata": {
        "id": "gODBnRV7SZak",
        "colab_type": "code",
        "colab": {
          "base_uri": "https://localhost:8080/",
          "height": 34
        },
        "outputId": "66b88a85-59bf-45ae-d054-2160c10d123a"
      },
      "source": [
        "print(X_val.shape, y_val.shape)"
      ],
      "execution_count": 23,
      "outputs": [
        {
          "output_type": "stream",
          "text": [
            "(1228, 48, 48, 1) (1228, 5)\n"
          ],
          "name": "stdout"
        }
      ]
    },
    {
      "cell_type": "code",
      "metadata": {
        "id": "7N4Lg-NWSZan",
        "colab_type": "code",
        "colab": {
          "base_uri": "https://localhost:8080/",
          "height": 34
        },
        "outputId": "40e4d187-965c-4045-dc0e-41202ce92cfb"
      },
      "source": [
        "print(X_Test.shape, y_Test.shape)"
      ],
      "execution_count": 24,
      "outputs": [
        {
          "output_type": "stream",
          "text": [
            "(1229, 48, 48, 1) (1229, 5)\n"
          ],
          "name": "stdout"
        }
      ]
    },
    {
      "cell_type": "code",
      "metadata": {
        "id": "RuFScpe7SZap",
        "colab_type": "code",
        "colab": {
          "base_uri": "https://localhost:8080/",
          "height": 34
        },
        "outputId": "1fc36089-4df6-4b13-a4da-cf95445005fd"
      },
      "source": [
        "print(X_train.shape, y_train.shape)"
      ],
      "execution_count": 25,
      "outputs": [
        {
          "output_type": "stream",
          "text": [
            "(22111, 48, 48, 1) (22111, 5)\n"
          ],
          "name": "stdout"
        }
      ]
    },
    {
      "cell_type": "code",
      "metadata": {
        "id": "H0HqjOnYSZas",
        "colab_type": "code",
        "colab": {}
      },
      "source": [
        "# image pre-processing \n",
        "# Normalization: make each pixel from (0 to 1)\n",
        "\n",
        "X_train = X_train/255\n",
        "X_val   = X_val /255\n",
        "X_Test  = X_Test/255"
      ],
      "execution_count": 26,
      "outputs": []
    },
    {
      "cell_type": "code",
      "metadata": {
        "id": "KoMgFMK7SZau",
        "colab_type": "code",
        "colab": {}
      },
      "source": [
        "train_datagen = ImageDataGenerator(\n",
        "    rotation_range=15,\n",
        "    width_shift_range=0.1,\n",
        "    height_shift_range=0.1,\n",
        "    shear_range=0.1,\n",
        "    zoom_range=0.1,\n",
        "    fill_mode = \"nearest\"\n",
        ")\n"
      ],
      "execution_count": 27,
      "outputs": []
    },
    {
      "cell_type": "code",
      "metadata": {
        "id": "3Z43y-21SZax",
        "colab_type": "code",
        "colab": {}
      },
      "source": [
        ""
      ],
      "execution_count": 27,
      "outputs": []
    },
    {
      "cell_type": "markdown",
      "metadata": {
        "id": "1kJhAqxrSZaz",
        "colab_type": "text"
      },
      "source": [
        "#5: UNDERSTAND THE INTUITION BEHIND CONVOLUTIONAL NEURAL NETWORKS AND RESNETS"
      ]
    },
    {
      "cell_type": "markdown",
      "metadata": {
        "id": "hDRAjxUySZaz",
        "colab_type": "text"
      },
      "source": [
        "![alt text](https://github.com/FatmaElZahraaSamir/Facial-Expression-Classification-Using-Residual-Neural-Nets/blob/master/imgs/2.png)"
      ]
    },
    {
      "cell_type": "markdown",
      "metadata": {
        "id": "WKhyDhm8SZaz",
        "colab_type": "text"
      },
      "source": [
        "![alt text](https://github.com/FatmaElZahraaSamir/Facial-Expression-Classification-Using-Residual-Neural-Nets/blob/master/imgs/3.png)"
      ]
    },
    {
      "cell_type": "markdown",
      "metadata": {
        "id": "KQlqt5S-SZa0",
        "colab_type": "text"
      },
      "source": [
        "![alt text](https://github.com/FatmaElZahraaSamir/Facial-Expression-Classification-Using-Residual-Neural-Nets/blob/master/imgs/4.*png*)"
      ]
    },
    {
      "cell_type": "markdown",
      "metadata": {
        "id": "eNhHwfHwSZa0",
        "colab_type": "text"
      },
      "source": [
        "![alt text](https://github.com/FatmaElZahraaSamir/Facial-Expression-Classification-Using-Residual-Neural-Nets/blob/master/imgs/5.png)"
      ]
    },
    {
      "cell_type": "code",
      "metadata": {
        "id": "Yv1uL0w1SZa1",
        "colab_type": "code",
        "colab": {}
      },
      "source": [
        ""
      ],
      "execution_count": 27,
      "outputs": []
    },
    {
      "cell_type": "markdown",
      "metadata": {
        "id": "01VB5YXPSZa4",
        "colab_type": "text"
      },
      "source": [
        "#6: BUILD AND TRAIN DEEP LEARNING MODEL FOR FACIAL EXPRESSION CLASSIFICATION"
      ]
    },
    {
      "cell_type": "code",
      "metadata": {
        "id": "zVkDCRX2SZa4",
        "colab_type": "code",
        "colab": {}
      },
      "source": [
        "def res_block(X, filter, stage):\n",
        "\n",
        "  # Convolutional_block\n",
        "  X_copy = X\n",
        "\n",
        "  f1 , f2, f3 = filter\n",
        "\n",
        "  # Main Path\n",
        "  X = Conv2D(f1, (1,1),strides = (1,1), name ='res_'+str(stage)+'_conv_a', kernel_initializer= glorot_uniform(seed = 0))(X)\n",
        "  X = MaxPool2D((2,2))(X)\n",
        "  X = BatchNormalization(axis =3, name = 'bn_'+str(stage)+'_conv_a')(X)\n",
        "  X = Activation('relu')(X) \n",
        "\n",
        "  X = Conv2D(f2, kernel_size = (3,3), strides =(1,1), padding = 'same', name ='res_'+str(stage)+'_conv_b', kernel_initializer= glorot_uniform(seed = 0))(X)\n",
        "  X = BatchNormalization(axis =3, name = 'bn_'+str(stage)+'_conv_b')(X)\n",
        "  X = Activation('relu')(X) \n",
        "\n",
        "  X = Conv2D(f3, kernel_size = (1,1), strides =(1,1),name ='res_'+str(stage)+'_conv_c', kernel_initializer= glorot_uniform(seed = 0))(X)\n",
        "  X = BatchNormalization(axis =3, name = 'bn_'+str(stage)+'_conv_c')(X)\n",
        "\n",
        "\n",
        "  # Short path\n",
        "  X_copy = Conv2D(f3, kernel_size = (1,1), strides =(1,1),name ='res_'+str(stage)+'_conv_copy', kernel_initializer= glorot_uniform(seed = 0))(X_copy)\n",
        "  X_copy = MaxPool2D((2,2))(X_copy)\n",
        "  X_copy = BatchNormalization(axis =3, name = 'bn_'+str(stage)+'_conv_copy')(X_copy)\n",
        "\n",
        "  # ADD\n",
        "  X = Add()([X,X_copy])\n",
        "  X = Activation('relu')(X)\n",
        "\n",
        "  # Identity Block 1\n",
        "  X_copy = X\n",
        "\n",
        "\n",
        "  # Main Path\n",
        "  X = Conv2D(f1, (1,1),strides = (1,1), name ='res_'+str(stage)+'_identity_1_a', kernel_initializer= glorot_uniform(seed = 0))(X)\n",
        "  X = BatchNormalization(axis =3, name = 'bn_'+str(stage)+'_identity_1_a')(X)\n",
        "  X = Activation('relu')(X) \n",
        "\n",
        "  X = Conv2D(f2, kernel_size = (3,3), strides =(1,1), padding = 'same', name ='res_'+str(stage)+'_identity_1_b', kernel_initializer= glorot_uniform(seed = 0))(X)\n",
        "  X = BatchNormalization(axis =3, name = 'bn_'+str(stage)+'_identity_1_b')(X)\n",
        "  X = Activation('relu')(X) \n",
        "\n",
        "  X = Conv2D(f3, kernel_size = (1,1), strides =(1,1),name ='res_'+str(stage)+'_identity_1_c', kernel_initializer= glorot_uniform(seed = 0))(X)\n",
        "  X = BatchNormalization(axis =3, name = 'bn_'+str(stage)+'_identity_1_c')(X)\n",
        "\n",
        "  # ADD\n",
        "  X = Add()([X,X_copy])\n",
        "  X = Activation('relu')(X)\n",
        "\n",
        "  # Identity Block 2\n",
        "  X_copy = X\n",
        "\n",
        "\n",
        "  # Main Path\n",
        "  X = Conv2D(f1, (1,1),strides = (1,1), name ='res_'+str(stage)+'_identity_2_a', kernel_initializer= glorot_uniform(seed = 0))(X)\n",
        "  X = BatchNormalization(axis =3, name = 'bn_'+str(stage)+'_identity_2_a')(X)\n",
        "  X = Activation('relu')(X) \n",
        "\n",
        "  X = Conv2D(f2, kernel_size = (3,3), strides =(1,1), padding = 'same', name ='res_'+str(stage)+'_identity_2_b', kernel_initializer= glorot_uniform(seed = 0))(X)\n",
        "  X = BatchNormalization(axis =3, name = 'bn_'+str(stage)+'_identity_2_b')(X)\n",
        "  X = Activation('relu')(X) \n",
        "\n",
        "  X = Conv2D(f3, kernel_size = (1,1), strides =(1,1),name ='res_'+str(stage)+'_identity_2_c', kernel_initializer= glorot_uniform(seed = 0))(X)\n",
        "  X = BatchNormalization(axis =3, name = 'bn_'+str(stage)+'_identity_2_c')(X)\n",
        "\n",
        "  # ADD\n",
        "  X = Add()([X,X_copy])\n",
        "  X = Activation('relu')(X)\n",
        "\n",
        "  return X"
      ],
      "execution_count": 28,
      "outputs": []
    },
    {
      "cell_type": "code",
      "metadata": {
        "id": "7nZej7KUSZa7",
        "colab_type": "code",
        "colab": {
          "base_uri": "https://localhost:8080/",
          "height": 1000
        },
        "outputId": "41b708ec-7927-4daa-e256-1fbe5a7fbc94"
      },
      "source": [
        "input_shape = (48, 48, 1)\n",
        "\n",
        "# Input tensor shape\n",
        "X_input = Input(input_shape)\n",
        "\n",
        "# Zero-padding\n",
        "X = ZeroPadding2D((3, 3))(X_input)\n",
        "\n",
        "# 1 - stage\n",
        "X = Conv2D(64, (7, 7), strides= (2, 2), name = 'conv1', kernel_initializer= glorot_uniform(seed = 0))(X)\n",
        "X = BatchNormalization(axis =3, name = 'bn_conv1')(X)\n",
        "X = Activation('relu')(X)\n",
        "X = MaxPooling2D((3, 3), strides= (2, 2))(X)\n",
        "\n",
        "# 2 - stage\n",
        "X = res_block(X, filter= [64, 64, 256], stage= 2)\n",
        "\n",
        "# 3 - stage\n",
        "X = res_block(X, filter= [128, 128, 512], stage= 3)\n",
        "\n",
        "# 4 - stage\n",
        "# X = res_block(X, filter= [256, 256, 1024], stage= 4)\n",
        "\n",
        "# Average Pooling\n",
        "X = AveragePooling2D((2, 2), name = 'Averagea_Pooling')(X)\n",
        "\n",
        "# Final layer\n",
        "X = Flatten()(X)\n",
        "X = Dense(5, activation = 'softmax', name = 'Dense_final', kernel_initializer= glorot_uniform(seed=0))(X)\n",
        "\n",
        "model_emotion = Model( inputs= X_input, outputs = X, name = 'Resnet18')\n",
        "\n",
        "model_emotion.summary()"
      ],
      "execution_count": 29,
      "outputs": [
        {
          "output_type": "stream",
          "text": [
            "Model: \"Resnet18\"\n",
            "__________________________________________________________________________________________________\n",
            "Layer (type)                    Output Shape         Param #     Connected to                     \n",
            "==================================================================================================\n",
            "input_1 (InputLayer)            [(None, 48, 48, 1)]  0                                            \n",
            "__________________________________________________________________________________________________\n",
            "zero_padding2d (ZeroPadding2D)  (None, 54, 54, 1)    0           input_1[0][0]                    \n",
            "__________________________________________________________________________________________________\n",
            "conv1 (Conv2D)                  (None, 24, 24, 64)   3200        zero_padding2d[0][0]             \n",
            "__________________________________________________________________________________________________\n",
            "bn_conv1 (BatchNormalization)   (None, 24, 24, 64)   256         conv1[0][0]                      \n",
            "__________________________________________________________________________________________________\n",
            "activation (Activation)         (None, 24, 24, 64)   0           bn_conv1[0][0]                   \n",
            "__________________________________________________________________________________________________\n",
            "max_pooling2d (MaxPooling2D)    (None, 11, 11, 64)   0           activation[0][0]                 \n",
            "__________________________________________________________________________________________________\n",
            "res_2_conv_a (Conv2D)           (None, 11, 11, 64)   4160        max_pooling2d[0][0]              \n",
            "__________________________________________________________________________________________________\n",
            "max_pooling2d_1 (MaxPooling2D)  (None, 5, 5, 64)     0           res_2_conv_a[0][0]               \n",
            "__________________________________________________________________________________________________\n",
            "bn_2_conv_a (BatchNormalization (None, 5, 5, 64)     256         max_pooling2d_1[0][0]            \n",
            "__________________________________________________________________________________________________\n",
            "activation_1 (Activation)       (None, 5, 5, 64)     0           bn_2_conv_a[0][0]                \n",
            "__________________________________________________________________________________________________\n",
            "res_2_conv_b (Conv2D)           (None, 5, 5, 64)     36928       activation_1[0][0]               \n",
            "__________________________________________________________________________________________________\n",
            "bn_2_conv_b (BatchNormalization (None, 5, 5, 64)     256         res_2_conv_b[0][0]               \n",
            "__________________________________________________________________________________________________\n",
            "activation_2 (Activation)       (None, 5, 5, 64)     0           bn_2_conv_b[0][0]                \n",
            "__________________________________________________________________________________________________\n",
            "res_2_conv_copy (Conv2D)        (None, 11, 11, 256)  16640       max_pooling2d[0][0]              \n",
            "__________________________________________________________________________________________________\n",
            "res_2_conv_c (Conv2D)           (None, 5, 5, 256)    16640       activation_2[0][0]               \n",
            "__________________________________________________________________________________________________\n",
            "max_pooling2d_2 (MaxPooling2D)  (None, 5, 5, 256)    0           res_2_conv_copy[0][0]            \n",
            "__________________________________________________________________________________________________\n",
            "bn_2_conv_c (BatchNormalization (None, 5, 5, 256)    1024        res_2_conv_c[0][0]               \n",
            "__________________________________________________________________________________________________\n",
            "bn_2_conv_copy (BatchNormalizat (None, 5, 5, 256)    1024        max_pooling2d_2[0][0]            \n",
            "__________________________________________________________________________________________________\n",
            "add (Add)                       (None, 5, 5, 256)    0           bn_2_conv_c[0][0]                \n",
            "                                                                 bn_2_conv_copy[0][0]             \n",
            "__________________________________________________________________________________________________\n",
            "activation_3 (Activation)       (None, 5, 5, 256)    0           add[0][0]                        \n",
            "__________________________________________________________________________________________________\n",
            "res_2_identity_1_a (Conv2D)     (None, 5, 5, 64)     16448       activation_3[0][0]               \n",
            "__________________________________________________________________________________________________\n",
            "bn_2_identity_1_a (BatchNormali (None, 5, 5, 64)     256         res_2_identity_1_a[0][0]         \n",
            "__________________________________________________________________________________________________\n",
            "activation_4 (Activation)       (None, 5, 5, 64)     0           bn_2_identity_1_a[0][0]          \n",
            "__________________________________________________________________________________________________\n",
            "res_2_identity_1_b (Conv2D)     (None, 5, 5, 64)     36928       activation_4[0][0]               \n",
            "__________________________________________________________________________________________________\n",
            "bn_2_identity_1_b (BatchNormali (None, 5, 5, 64)     256         res_2_identity_1_b[0][0]         \n",
            "__________________________________________________________________________________________________\n",
            "activation_5 (Activation)       (None, 5, 5, 64)     0           bn_2_identity_1_b[0][0]          \n",
            "__________________________________________________________________________________________________\n",
            "res_2_identity_1_c (Conv2D)     (None, 5, 5, 256)    16640       activation_5[0][0]               \n",
            "__________________________________________________________________________________________________\n",
            "bn_2_identity_1_c (BatchNormali (None, 5, 5, 256)    1024        res_2_identity_1_c[0][0]         \n",
            "__________________________________________________________________________________________________\n",
            "add_1 (Add)                     (None, 5, 5, 256)    0           bn_2_identity_1_c[0][0]          \n",
            "                                                                 activation_3[0][0]               \n",
            "__________________________________________________________________________________________________\n",
            "activation_6 (Activation)       (None, 5, 5, 256)    0           add_1[0][0]                      \n",
            "__________________________________________________________________________________________________\n",
            "res_2_identity_2_a (Conv2D)     (None, 5, 5, 64)     16448       activation_6[0][0]               \n",
            "__________________________________________________________________________________________________\n",
            "bn_2_identity_2_a (BatchNormali (None, 5, 5, 64)     256         res_2_identity_2_a[0][0]         \n",
            "__________________________________________________________________________________________________\n",
            "activation_7 (Activation)       (None, 5, 5, 64)     0           bn_2_identity_2_a[0][0]          \n",
            "__________________________________________________________________________________________________\n",
            "res_2_identity_2_b (Conv2D)     (None, 5, 5, 64)     36928       activation_7[0][0]               \n",
            "__________________________________________________________________________________________________\n",
            "bn_2_identity_2_b (BatchNormali (None, 5, 5, 64)     256         res_2_identity_2_b[0][0]         \n",
            "__________________________________________________________________________________________________\n",
            "activation_8 (Activation)       (None, 5, 5, 64)     0           bn_2_identity_2_b[0][0]          \n",
            "__________________________________________________________________________________________________\n",
            "res_2_identity_2_c (Conv2D)     (None, 5, 5, 256)    16640       activation_8[0][0]               \n",
            "__________________________________________________________________________________________________\n",
            "bn_2_identity_2_c (BatchNormali (None, 5, 5, 256)    1024        res_2_identity_2_c[0][0]         \n",
            "__________________________________________________________________________________________________\n",
            "add_2 (Add)                     (None, 5, 5, 256)    0           bn_2_identity_2_c[0][0]          \n",
            "                                                                 activation_6[0][0]               \n",
            "__________________________________________________________________________________________________\n",
            "activation_9 (Activation)       (None, 5, 5, 256)    0           add_2[0][0]                      \n",
            "__________________________________________________________________________________________________\n",
            "res_3_conv_a (Conv2D)           (None, 5, 5, 128)    32896       activation_9[0][0]               \n",
            "__________________________________________________________________________________________________\n",
            "max_pooling2d_3 (MaxPooling2D)  (None, 2, 2, 128)    0           res_3_conv_a[0][0]               \n",
            "__________________________________________________________________________________________________\n",
            "bn_3_conv_a (BatchNormalization (None, 2, 2, 128)    512         max_pooling2d_3[0][0]            \n",
            "__________________________________________________________________________________________________\n",
            "activation_10 (Activation)      (None, 2, 2, 128)    0           bn_3_conv_a[0][0]                \n",
            "__________________________________________________________________________________________________\n",
            "res_3_conv_b (Conv2D)           (None, 2, 2, 128)    147584      activation_10[0][0]              \n",
            "__________________________________________________________________________________________________\n",
            "bn_3_conv_b (BatchNormalization (None, 2, 2, 128)    512         res_3_conv_b[0][0]               \n",
            "__________________________________________________________________________________________________\n",
            "activation_11 (Activation)      (None, 2, 2, 128)    0           bn_3_conv_b[0][0]                \n",
            "__________________________________________________________________________________________________\n",
            "res_3_conv_copy (Conv2D)        (None, 5, 5, 512)    131584      activation_9[0][0]               \n",
            "__________________________________________________________________________________________________\n",
            "res_3_conv_c (Conv2D)           (None, 2, 2, 512)    66048       activation_11[0][0]              \n",
            "__________________________________________________________________________________________________\n",
            "max_pooling2d_4 (MaxPooling2D)  (None, 2, 2, 512)    0           res_3_conv_copy[0][0]            \n",
            "__________________________________________________________________________________________________\n",
            "bn_3_conv_c (BatchNormalization (None, 2, 2, 512)    2048        res_3_conv_c[0][0]               \n",
            "__________________________________________________________________________________________________\n",
            "bn_3_conv_copy (BatchNormalizat (None, 2, 2, 512)    2048        max_pooling2d_4[0][0]            \n",
            "__________________________________________________________________________________________________\n",
            "add_3 (Add)                     (None, 2, 2, 512)    0           bn_3_conv_c[0][0]                \n",
            "                                                                 bn_3_conv_copy[0][0]             \n",
            "__________________________________________________________________________________________________\n",
            "activation_12 (Activation)      (None, 2, 2, 512)    0           add_3[0][0]                      \n",
            "__________________________________________________________________________________________________\n",
            "res_3_identity_1_a (Conv2D)     (None, 2, 2, 128)    65664       activation_12[0][0]              \n",
            "__________________________________________________________________________________________________\n",
            "bn_3_identity_1_a (BatchNormali (None, 2, 2, 128)    512         res_3_identity_1_a[0][0]         \n",
            "__________________________________________________________________________________________________\n",
            "activation_13 (Activation)      (None, 2, 2, 128)    0           bn_3_identity_1_a[0][0]          \n",
            "__________________________________________________________________________________________________\n",
            "res_3_identity_1_b (Conv2D)     (None, 2, 2, 128)    147584      activation_13[0][0]              \n",
            "__________________________________________________________________________________________________\n",
            "bn_3_identity_1_b (BatchNormali (None, 2, 2, 128)    512         res_3_identity_1_b[0][0]         \n",
            "__________________________________________________________________________________________________\n",
            "activation_14 (Activation)      (None, 2, 2, 128)    0           bn_3_identity_1_b[0][0]          \n",
            "__________________________________________________________________________________________________\n",
            "res_3_identity_1_c (Conv2D)     (None, 2, 2, 512)    66048       activation_14[0][0]              \n",
            "__________________________________________________________________________________________________\n",
            "bn_3_identity_1_c (BatchNormali (None, 2, 2, 512)    2048        res_3_identity_1_c[0][0]         \n",
            "__________________________________________________________________________________________________\n",
            "add_4 (Add)                     (None, 2, 2, 512)    0           bn_3_identity_1_c[0][0]          \n",
            "                                                                 activation_12[0][0]              \n",
            "__________________________________________________________________________________________________\n",
            "activation_15 (Activation)      (None, 2, 2, 512)    0           add_4[0][0]                      \n",
            "__________________________________________________________________________________________________\n",
            "res_3_identity_2_a (Conv2D)     (None, 2, 2, 128)    65664       activation_15[0][0]              \n",
            "__________________________________________________________________________________________________\n",
            "bn_3_identity_2_a (BatchNormali (None, 2, 2, 128)    512         res_3_identity_2_a[0][0]         \n",
            "__________________________________________________________________________________________________\n",
            "activation_16 (Activation)      (None, 2, 2, 128)    0           bn_3_identity_2_a[0][0]          \n",
            "__________________________________________________________________________________________________\n",
            "res_3_identity_2_b (Conv2D)     (None, 2, 2, 128)    147584      activation_16[0][0]              \n",
            "__________________________________________________________________________________________________\n",
            "bn_3_identity_2_b (BatchNormali (None, 2, 2, 128)    512         res_3_identity_2_b[0][0]         \n",
            "__________________________________________________________________________________________________\n",
            "activation_17 (Activation)      (None, 2, 2, 128)    0           bn_3_identity_2_b[0][0]          \n",
            "__________________________________________________________________________________________________\n",
            "res_3_identity_2_c (Conv2D)     (None, 2, 2, 512)    66048       activation_17[0][0]              \n",
            "__________________________________________________________________________________________________\n",
            "bn_3_identity_2_c (BatchNormali (None, 2, 2, 512)    2048        res_3_identity_2_c[0][0]         \n",
            "__________________________________________________________________________________________________\n",
            "add_5 (Add)                     (None, 2, 2, 512)    0           bn_3_identity_2_c[0][0]          \n",
            "                                                                 activation_15[0][0]              \n",
            "__________________________________________________________________________________________________\n",
            "activation_18 (Activation)      (None, 2, 2, 512)    0           add_5[0][0]                      \n",
            "__________________________________________________________________________________________________\n",
            "Averagea_Pooling (AveragePoolin (None, 1, 1, 512)    0           activation_18[0][0]              \n",
            "__________________________________________________________________________________________________\n",
            "flatten (Flatten)               (None, 512)          0           Averagea_Pooling[0][0]           \n",
            "__________________________________________________________________________________________________\n",
            "Dense_final (Dense)             (None, 5)            2565        flatten[0][0]                    \n",
            "==================================================================================================\n",
            "Total params: 1,174,021\n",
            "Trainable params: 1,165,445\n",
            "Non-trainable params: 8,576\n",
            "__________________________________________________________________________________________________\n"
          ],
          "name": "stdout"
        }
      ]
    },
    {
      "cell_type": "code",
      "metadata": {
        "id": "8HCwAj8ESZa-",
        "colab_type": "code",
        "colab": {}
      },
      "source": [
        "# train the network\n",
        "model_emotion.compile(optimizer = \"Adam\", loss = \"categorical_crossentropy\", metrics = [\"accuracy\"])"
      ],
      "execution_count": 30,
      "outputs": []
    },
    {
      "cell_type": "code",
      "metadata": {
        "id": "ZAX3RwiWSZbA",
        "colab_type": "code",
        "colab": {}
      },
      "source": [
        "# Recall that the first facial key points model was saved as follows: FacialKeyPoints_weights.hdf5 and FacialKeyPoints-model.json\n",
        "\n",
        "# using early stopping to exit training if validation loss is not decreasing even after certain epochs (patience)\n",
        "earlystopping = EarlyStopping(monitor = 'val_loss', mode = 'min', verbose = 1, patience = 20)\n",
        "\n",
        "# save the best model with lower validation loss\n",
        "checkpointer = ModelCheckpoint(filepath = \"FacialExpression_weights.hdf5\", verbose = 1, save_best_only=True)"
      ],
      "execution_count": 31,
      "outputs": []
    },
    {
      "cell_type": "code",
      "metadata": {
        "id": "kL3Q_sGJSZbD",
        "colab_type": "code",
        "colab": {
          "base_uri": "https://localhost:8080/",
          "height": 1000
        },
        "outputId": "ec99d0b1-f7a1-4b06-d329-8a4bbaa8da28"
      },
      "source": [
        "history = model_emotion.fit(train_datagen.flow(X_train, y_train, batch_size=64),\n",
        "\tvalidation_data=(X_val, y_val), steps_per_epoch=len(X_train) // 64,\n",
        "\tepochs= 40, callbacks=[checkpointer, earlystopping])"
      ],
      "execution_count": 32,
      "outputs": [
        {
          "output_type": "stream",
          "text": [
            "Epoch 1/40\n",
            "345/345 [==============================] - ETA: 0s - loss: 1.4203 - accuracy: 0.4304\n",
            "Epoch 00001: val_loss improved from inf to 1.48040, saving model to FacialExpression_weights.hdf5\n",
            "345/345 [==============================] - 118s 341ms/step - loss: 1.4203 - accuracy: 0.4304 - val_loss: 1.4804 - val_accuracy: 0.3974\n",
            "Epoch 2/40\n",
            "345/345 [==============================] - ETA: 0s - loss: 1.1581 - accuracy: 0.5296\n",
            "Epoch 00002: val_loss did not improve from 1.48040\n",
            "345/345 [==============================] - 118s 341ms/step - loss: 1.1581 - accuracy: 0.5296 - val_loss: 1.4940 - val_accuracy: 0.4308\n",
            "Epoch 3/40\n",
            "345/345 [==============================] - ETA: 0s - loss: 1.0430 - accuracy: 0.5809\n",
            "Epoch 00003: val_loss improved from 1.48040 to 1.18305, saving model to FacialExpression_weights.hdf5\n",
            "345/345 [==============================] - 118s 341ms/step - loss: 1.0430 - accuracy: 0.5809 - val_loss: 1.1831 - val_accuracy: 0.5114\n",
            "Epoch 4/40\n",
            "345/345 [==============================] - ETA: 0s - loss: 0.9616 - accuracy: 0.6169\n",
            "Epoch 00004: val_loss improved from 1.18305 to 0.96930, saving model to FacialExpression_weights.hdf5\n",
            "345/345 [==============================] - 118s 342ms/step - loss: 0.9616 - accuracy: 0.6169 - val_loss: 0.9693 - val_accuracy: 0.6197\n",
            "Epoch 5/40\n",
            "345/345 [==============================] - ETA: 0s - loss: 0.9061 - accuracy: 0.6413\n",
            "Epoch 00005: val_loss did not improve from 0.96930\n",
            "345/345 [==============================] - 118s 342ms/step - loss: 0.9061 - accuracy: 0.6413 - val_loss: 1.1070 - val_accuracy: 0.5334\n",
            "Epoch 6/40\n",
            "345/345 [==============================] - ETA: 0s - loss: 0.8602 - accuracy: 0.6628\n",
            "Epoch 00006: val_loss improved from 0.96930 to 0.95060, saving model to FacialExpression_weights.hdf5\n",
            "345/345 [==============================] - 118s 341ms/step - loss: 0.8602 - accuracy: 0.6628 - val_loss: 0.9506 - val_accuracy: 0.6132\n",
            "Epoch 7/40\n",
            "345/345 [==============================] - ETA: 0s - loss: 0.8320 - accuracy: 0.6751\n",
            "Epoch 00007: val_loss did not improve from 0.95060\n",
            "345/345 [==============================] - 118s 341ms/step - loss: 0.8320 - accuracy: 0.6751 - val_loss: 1.0851 - val_accuracy: 0.5619\n",
            "Epoch 8/40\n",
            "345/345 [==============================] - ETA: 0s - loss: 0.7979 - accuracy: 0.6885\n",
            "Epoch 00008: val_loss did not improve from 0.95060\n",
            "345/345 [==============================] - 118s 342ms/step - loss: 0.7979 - accuracy: 0.6885 - val_loss: 1.0819 - val_accuracy: 0.5269\n",
            "Epoch 9/40\n",
            "345/345 [==============================] - ETA: 0s - loss: 0.7899 - accuracy: 0.6942\n",
            "Epoch 00009: val_loss improved from 0.95060 to 0.93291, saving model to FacialExpression_weights.hdf5\n",
            "345/345 [==============================] - 117s 340ms/step - loss: 0.7899 - accuracy: 0.6942 - val_loss: 0.9329 - val_accuracy: 0.6213\n",
            "Epoch 10/40\n",
            "345/345 [==============================] - ETA: 0s - loss: 0.7692 - accuracy: 0.6990\n",
            "Epoch 00010: val_loss improved from 0.93291 to 0.89856, saving model to FacialExpression_weights.hdf5\n",
            "345/345 [==============================] - 118s 341ms/step - loss: 0.7692 - accuracy: 0.6990 - val_loss: 0.8986 - val_accuracy: 0.6352\n",
            "Epoch 11/40\n",
            "345/345 [==============================] - ETA: 0s - loss: 0.7432 - accuracy: 0.7122\n",
            "Epoch 00011: val_loss did not improve from 0.89856\n",
            "345/345 [==============================] - 117s 340ms/step - loss: 0.7432 - accuracy: 0.7122 - val_loss: 1.1024 - val_accuracy: 0.5635\n",
            "Epoch 12/40\n",
            "345/345 [==============================] - ETA: 0s - loss: 0.7263 - accuracy: 0.7194\n",
            "Epoch 00012: val_loss did not improve from 0.89856\n",
            "345/345 [==============================] - 117s 340ms/step - loss: 0.7263 - accuracy: 0.7194 - val_loss: 0.9722 - val_accuracy: 0.6287\n",
            "Epoch 13/40\n",
            "345/345 [==============================] - ETA: 0s - loss: 0.7041 - accuracy: 0.7263\n",
            "Epoch 00013: val_loss improved from 0.89856 to 0.79692, saving model to FacialExpression_weights.hdf5\n",
            "345/345 [==============================] - 117s 341ms/step - loss: 0.7041 - accuracy: 0.7263 - val_loss: 0.7969 - val_accuracy: 0.6857\n",
            "Epoch 14/40\n",
            "345/345 [==============================] - ETA: 0s - loss: 0.6959 - accuracy: 0.7303\n",
            "Epoch 00014: val_loss did not improve from 0.79692\n",
            "345/345 [==============================] - 117s 340ms/step - loss: 0.6959 - accuracy: 0.7303 - val_loss: 0.8262 - val_accuracy: 0.6710\n",
            "Epoch 15/40\n",
            "345/345 [==============================] - ETA: 0s - loss: 0.6774 - accuracy: 0.7396\n",
            "Epoch 00015: val_loss did not improve from 0.79692\n",
            "345/345 [==============================] - 118s 341ms/step - loss: 0.6774 - accuracy: 0.7396 - val_loss: 1.0472 - val_accuracy: 0.5920\n",
            "Epoch 16/40\n",
            "345/345 [==============================] - ETA: 0s - loss: 0.6617 - accuracy: 0.7423\n",
            "Epoch 00016: val_loss improved from 0.79692 to 0.79031, saving model to FacialExpression_weights.hdf5\n",
            "345/345 [==============================] - 118s 341ms/step - loss: 0.6617 - accuracy: 0.7423 - val_loss: 0.7903 - val_accuracy: 0.6840\n",
            "Epoch 17/40\n",
            "345/345 [==============================] - ETA: 0s - loss: 0.6523 - accuracy: 0.7474\n",
            "Epoch 00017: val_loss improved from 0.79031 to 0.73930, saving model to FacialExpression_weights.hdf5\n",
            "345/345 [==============================] - 118s 343ms/step - loss: 0.6523 - accuracy: 0.7474 - val_loss: 0.7393 - val_accuracy: 0.7085\n",
            "Epoch 18/40\n",
            "345/345 [==============================] - ETA: 0s - loss: 0.6420 - accuracy: 0.7514\n",
            "Epoch 00018: val_loss did not improve from 0.73930\n",
            "345/345 [==============================] - 118s 342ms/step - loss: 0.6420 - accuracy: 0.7514 - val_loss: 0.8671 - val_accuracy: 0.6588\n",
            "Epoch 19/40\n",
            "345/345 [==============================] - ETA: 0s - loss: 0.6269 - accuracy: 0.7597\n",
            "Epoch 00019: val_loss did not improve from 0.73930\n",
            "345/345 [==============================] - 118s 341ms/step - loss: 0.6269 - accuracy: 0.7597 - val_loss: 0.7928 - val_accuracy: 0.6889\n",
            "Epoch 20/40\n",
            "345/345 [==============================] - ETA: 0s - loss: 0.6157 - accuracy: 0.7624\n",
            "Epoch 00020: val_loss did not improve from 0.73930\n",
            "345/345 [==============================] - 118s 342ms/step - loss: 0.6157 - accuracy: 0.7624 - val_loss: 0.8364 - val_accuracy: 0.6710\n",
            "Epoch 21/40\n",
            "345/345 [==============================] - ETA: 0s - loss: 0.6101 - accuracy: 0.7652\n",
            "Epoch 00021: val_loss did not improve from 0.73930\n",
            "345/345 [==============================] - 118s 341ms/step - loss: 0.6101 - accuracy: 0.7652 - val_loss: 0.8219 - val_accuracy: 0.6873\n",
            "Epoch 22/40\n",
            "345/345 [==============================] - ETA: 0s - loss: 0.5994 - accuracy: 0.7680\n",
            "Epoch 00022: val_loss did not improve from 0.73930\n",
            "345/345 [==============================] - 118s 342ms/step - loss: 0.5994 - accuracy: 0.7680 - val_loss: 0.7991 - val_accuracy: 0.6963\n",
            "Epoch 23/40\n",
            "345/345 [==============================] - ETA: 0s - loss: 0.5805 - accuracy: 0.7788\n",
            "Epoch 00023: val_loss did not improve from 0.73930\n",
            "345/345 [==============================] - 117s 340ms/step - loss: 0.5805 - accuracy: 0.7788 - val_loss: 0.7956 - val_accuracy: 0.7003\n",
            "Epoch 24/40\n",
            "345/345 [==============================] - ETA: 0s - loss: 0.5822 - accuracy: 0.7751\n",
            "Epoch 00024: val_loss did not improve from 0.73930\n",
            "345/345 [==============================] - 118s 343ms/step - loss: 0.5822 - accuracy: 0.7751 - val_loss: 0.8794 - val_accuracy: 0.6523\n",
            "Epoch 25/40\n",
            "345/345 [==============================] - ETA: 0s - loss: 0.5643 - accuracy: 0.7843\n",
            "Epoch 00025: val_loss did not improve from 0.73930\n",
            "345/345 [==============================] - 118s 341ms/step - loss: 0.5643 - accuracy: 0.7843 - val_loss: 0.7900 - val_accuracy: 0.7060\n",
            "Epoch 26/40\n",
            "345/345 [==============================] - ETA: 0s - loss: 0.5519 - accuracy: 0.7863\n",
            "Epoch 00026: val_loss did not improve from 0.73930\n",
            "345/345 [==============================] - 118s 342ms/step - loss: 0.5519 - accuracy: 0.7863 - val_loss: 0.8911 - val_accuracy: 0.6515\n",
            "Epoch 27/40\n",
            "345/345 [==============================] - ETA: 0s - loss: 0.5459 - accuracy: 0.7913\n",
            "Epoch 00027: val_loss did not improve from 0.73930\n",
            "345/345 [==============================] - 118s 342ms/step - loss: 0.5459 - accuracy: 0.7913 - val_loss: 0.7939 - val_accuracy: 0.6963\n",
            "Epoch 28/40\n",
            "345/345 [==============================] - ETA: 0s - loss: 0.5420 - accuracy: 0.7927\n",
            "Epoch 00028: val_loss did not improve from 0.73930\n",
            "345/345 [==============================] - 118s 341ms/step - loss: 0.5420 - accuracy: 0.7927 - val_loss: 0.9777 - val_accuracy: 0.6637\n",
            "Epoch 29/40\n",
            "345/345 [==============================] - ETA: 0s - loss: 0.5350 - accuracy: 0.7955\n",
            "Epoch 00029: val_loss did not improve from 0.73930\n",
            "345/345 [==============================] - 118s 341ms/step - loss: 0.5350 - accuracy: 0.7955 - val_loss: 0.8381 - val_accuracy: 0.6865\n",
            "Epoch 30/40\n",
            "345/345 [==============================] - ETA: 0s - loss: 0.5166 - accuracy: 0.7995\n",
            "Epoch 00030: val_loss did not improve from 0.73930\n",
            "345/345 [==============================] - 121s 351ms/step - loss: 0.5166 - accuracy: 0.7995 - val_loss: 0.9413 - val_accuracy: 0.6596\n",
            "Epoch 31/40\n",
            "345/345 [==============================] - ETA: 0s - loss: 0.5117 - accuracy: 0.8050\n",
            "Epoch 00031: val_loss did not improve from 0.73930\n",
            "345/345 [==============================] - 118s 341ms/step - loss: 0.5117 - accuracy: 0.8050 - val_loss: 0.8419 - val_accuracy: 0.6995\n",
            "Epoch 32/40\n",
            "345/345 [==============================] - ETA: 0s - loss: 0.5068 - accuracy: 0.8068\n",
            "Epoch 00032: val_loss did not improve from 0.73930\n",
            "345/345 [==============================] - 118s 342ms/step - loss: 0.5068 - accuracy: 0.8068 - val_loss: 0.8526 - val_accuracy: 0.6645\n",
            "Epoch 33/40\n",
            "345/345 [==============================] - ETA: 0s - loss: 0.4982 - accuracy: 0.8113\n",
            "Epoch 00033: val_loss did not improve from 0.73930\n",
            "345/345 [==============================] - 118s 342ms/step - loss: 0.4982 - accuracy: 0.8113 - val_loss: 0.9490 - val_accuracy: 0.6539\n",
            "Epoch 34/40\n",
            "345/345 [==============================] - ETA: 0s - loss: 0.4897 - accuracy: 0.8140\n",
            "Epoch 00034: val_loss did not improve from 0.73930\n",
            "345/345 [==============================] - 118s 341ms/step - loss: 0.4897 - accuracy: 0.8140 - val_loss: 0.7693 - val_accuracy: 0.7117\n",
            "Epoch 35/40\n",
            "345/345 [==============================] - ETA: 0s - loss: 0.4941 - accuracy: 0.8116\n",
            "Epoch 00035: val_loss improved from 0.73930 to 0.73186, saving model to FacialExpression_weights.hdf5\n",
            "345/345 [==============================] - 117s 340ms/step - loss: 0.4941 - accuracy: 0.8116 - val_loss: 0.7319 - val_accuracy: 0.7305\n",
            "Epoch 36/40\n",
            "345/345 [==============================] - ETA: 0s - loss: 0.4748 - accuracy: 0.8183\n",
            "Epoch 00036: val_loss did not improve from 0.73186\n",
            "345/345 [==============================] - 117s 340ms/step - loss: 0.4748 - accuracy: 0.8183 - val_loss: 1.2213 - val_accuracy: 0.5627\n",
            "Epoch 37/40\n",
            "345/345 [==============================] - ETA: 0s - loss: 0.4663 - accuracy: 0.8228\n",
            "Epoch 00037: val_loss did not improve from 0.73186\n",
            "345/345 [==============================] - 119s 344ms/step - loss: 0.4663 - accuracy: 0.8228 - val_loss: 0.7768 - val_accuracy: 0.6987\n",
            "Epoch 38/40\n",
            "345/345 [==============================] - ETA: 0s - loss: 0.4569 - accuracy: 0.8261\n",
            "Epoch 00038: val_loss did not improve from 0.73186\n",
            "345/345 [==============================] - 118s 343ms/step - loss: 0.4569 - accuracy: 0.8261 - val_loss: 0.7410 - val_accuracy: 0.7337\n",
            "Epoch 39/40\n",
            "345/345 [==============================] - ETA: 0s - loss: 0.4545 - accuracy: 0.8292\n",
            "Epoch 00039: val_loss improved from 0.73186 to 0.72547, saving model to FacialExpression_weights.hdf5\n",
            "345/345 [==============================] - 119s 345ms/step - loss: 0.4545 - accuracy: 0.8292 - val_loss: 0.7255 - val_accuracy: 0.7370\n",
            "Epoch 40/40\n",
            "345/345 [==============================] - ETA: 0s - loss: 0.4400 - accuracy: 0.8321\n",
            "Epoch 00040: val_loss did not improve from 0.72547\n",
            "345/345 [==============================] - 119s 344ms/step - loss: 0.4400 - accuracy: 0.8321 - val_loss: 0.8910 - val_accuracy: 0.6718\n"
          ],
          "name": "stdout"
        }
      ]
    },
    {
      "cell_type": "code",
      "metadata": {
        "id": "CQ7REflnSZbJ",
        "colab_type": "code",
        "colab": {}
      },
      "source": [
        "# saving the model architecture to json file for future use\n",
        "\n",
        "model_json = model_emotion.to_json()\n",
        "with open(\"Emotion-model.json\",\"w\") as json_file:\n",
        "  json_file.write(model_json)"
      ],
      "execution_count": 45,
      "outputs": []
    },
    {
      "cell_type": "code",
      "metadata": {
        "id": "yFgIc3NMSZbN",
        "colab_type": "code",
        "colab": {}
      },
      "source": [
        ""
      ],
      "execution_count": 33,
      "outputs": []
    },
    {
      "cell_type": "markdown",
      "metadata": {
        "id": "N19drBMrSZbT",
        "colab_type": "text"
      },
      "source": [
        "#7: ASSESS THE PERFORMANCE OF TRAINED FACIAL EXPRESSION CLASSIFIER MODEL"
      ]
    },
    {
      "cell_type": "code",
      "metadata": {
        "id": "eOx29HtzSZbT",
        "colab_type": "code",
        "colab": {}
      },
      "source": [
        "with open('Emotion-model.json', 'r') as json_file:\n",
        "    json_savedModel= json_file.read()\n",
        "    \n",
        "# load the model architecture \n",
        "model_emotion = tf.keras.models.model_from_json(json_savedModel)\n",
        "model_emotion.load_weights('FacialExpression_weights.hdf5')\n",
        "model_emotion.compile(optimizer = \"Adam\", loss = \"categorical_crossentropy\", metrics = [\"accuracy\"])"
      ],
      "execution_count": 46,
      "outputs": []
    },
    {
      "cell_type": "code",
      "metadata": {
        "id": "LqqoitV0SZbW",
        "colab_type": "code",
        "colab": {
          "base_uri": "https://localhost:8080/",
          "height": 51
        },
        "outputId": "1a9d3ab6-f6ed-4f4f-d09f-a0cb150085cf"
      },
      "source": [
        "score = model_emotion.evaluate(X_Test, y_Test)\n",
        "print('Test Accuracy: {}'.format(score[1]))"
      ],
      "execution_count": 47,
      "outputs": [
        {
          "output_type": "stream",
          "text": [
            "39/39 [==============================] - 1s 32ms/step - loss: 0.7366 - accuracy: 0.7331\n",
            "Test Accuracy: 0.7331163287162781\n"
          ],
          "name": "stdout"
        }
      ]
    },
    {
      "cell_type": "code",
      "metadata": {
        "id": "GOx0fuAySZbc",
        "colab_type": "code",
        "colab": {
          "base_uri": "https://localhost:8080/",
          "height": 34
        },
        "outputId": "c76a7115-fc48-4914-cab7-09f5b240229c"
      },
      "source": [
        "history.history.keys()"
      ],
      "execution_count": 36,
      "outputs": [
        {
          "output_type": "execute_result",
          "data": {
            "text/plain": [
              "dict_keys(['loss', 'accuracy', 'val_loss', 'val_accuracy'])"
            ]
          },
          "metadata": {
            "tags": []
          },
          "execution_count": 36
        }
      ]
    },
    {
      "cell_type": "code",
      "metadata": {
        "id": "4c1a8rnCSZbg",
        "colab_type": "code",
        "colab": {}
      },
      "source": [
        "accuracy = history.history['accuracy']\n",
        "val_accuracy = history.history['val_accuracy']\n",
        "loss = history.history['loss']\n",
        "val_loss = history.history['val_loss']"
      ],
      "execution_count": 37,
      "outputs": []
    },
    {
      "cell_type": "code",
      "metadata": {
        "id": "PgZ_VsXxSZbi",
        "colab_type": "code",
        "colab": {
          "base_uri": "https://localhost:8080/",
          "height": 298
        },
        "outputId": "0c338ba5-127d-42cf-cb20-7406d2a415f5"
      },
      "source": [
        "epochs = range(len(accuracy))\n",
        "\n",
        "plt.plot(epochs, accuracy, 'bo', label='Training Accuracy')\n",
        "plt.plot(epochs, val_accuracy, 'b', label='Validation Accuracy')\n",
        "plt.title('Training and Validation Accuracy')\n",
        "plt.legend()"
      ],
      "execution_count": 38,
      "outputs": [
        {
          "output_type": "execute_result",
          "data": {
            "text/plain": [
              "<matplotlib.legend.Legend at 0x7f929cdce240>"
            ]
          },
          "metadata": {
            "tags": []
          },
          "execution_count": 38
        },
        {
          "output_type": "display_data",
          "data": {
            "image/png": "[encoded data removed]",
            "text/plain": [
              "<Figure size 432x288 with 1 Axes>"
            ]
          },
          "metadata": {
            "tags": [],
            "needs_background": "light"
          }
        }
      ]
    },
    {
      "cell_type": "code",
      "metadata": {
        "id": "dHHQxx3bSZbk",
        "colab_type": "code",
        "colab": {
          "base_uri": "https://localhost:8080/",
          "height": 298
        },
        "outputId": "baefb10b-f54d-4e10-b77a-71c0c62876ac"
      },
      "source": [
        "plt.plot(epochs, loss, 'ro', label='Training loss')\n",
        "plt.plot(epochs, val_loss, 'r', label='Validation loss')\n",
        "plt.title('Training and Validation loss')\n",
        "plt.legend()"
      ],
      "execution_count": 39,
      "outputs": [
        {
          "output_type": "execute_result",
          "data": {
            "text/plain": [
              "<matplotlib.legend.Legend at 0x7f929cd394a8>"
            ]
          },
          "metadata": {
            "tags": []
          },
          "execution_count": 39
        },
        {
          "output_type": "display_data",
          "data": {
            "image/png": "[encoded data removed]",
            "text/plain": [
              "<Figure size 432x288 with 1 Axes>"
            ]
          },
          "metadata": {
            "tags": [],
            "needs_background": "light"
          }
        }
      ]
    },
    {
      "cell_type": "code",
      "metadata": {
        "id": "YHZi1adVSZbn",
        "colab_type": "code",
        "colab": {}
      },
      "source": [
        "# predicted_classes = model.predict_classes(X_test)\n",
        "predicted_classes = np.argmax(model_emotion.predict(X_Test), axis=-1)\n",
        "y_true = np.argmax(y_Test, axis=-1)"
      ],
      "execution_count": 40,
      "outputs": []
    },
    {
      "cell_type": "code",
      "metadata": {
        "id": "Nls9RRbHSZbr",
        "colab_type": "code",
        "colab": {
          "base_uri": "https://localhost:8080/",
          "height": 34
        },
        "outputId": "dec2b18b-5a0f-40e7-eb59-ceb228cd260d"
      },
      "source": [
        "y_true.shape"
      ],
      "execution_count": 41,
      "outputs": [
        {
          "output_type": "execute_result",
          "data": {
            "text/plain": [
              "(1229,)"
            ]
          },
          "metadata": {
            "tags": []
          },
          "execution_count": 41
        }
      ]
    },
    {
      "cell_type": "code",
      "metadata": {
        "id": "z2Fwfyc3SZbu",
        "colab_type": "code",
        "colab": {
          "base_uri": "https://localhost:8080/",
          "height": 609
        },
        "outputId": "836972a9-6ce1-4516-f7a8-00d3bab06c06"
      },
      "source": [
        "from sklearn.metrics import confusion_matrix\n",
        "cm = confusion_matrix(y_true, predicted_classes)\n",
        "plt.figure(figsize = (10, 10))\n",
        "sns.heatmap(cm, annot = True, cbar = False)"
      ],
      "execution_count": 42,
      "outputs": [
        {
          "output_type": "execute_result",
          "data": {
            "text/plain": [
              "<matplotlib.axes._subplots.AxesSubplot at 0x7f92a8bf0d68>"
            ]
          },
          "metadata": {
            "tags": []
          },
          "execution_count": 42
        },
        {
          "output_type": "display_data",
          "data": {
            "image/png": "[encoded data removed]",
            "text/plain": [
              "<Figure size 720x720 with 1 Axes>"
            ]
          },
          "metadata": {
            "tags": [],
            "needs_background": "light"
          }
        }
      ]
    },
    {
      "cell_type": "code",
      "metadata": {
        "id": "s3ifTSTFSZbz",
        "colab_type": "code",
        "colab": {
          "base_uri": "https://localhost:8080/",
          "height": 1000
        },
        "outputId": "404996be-dd45-4cd3-c9f2-5db891cdb470"
      },
      "source": [
        "L = 5\n",
        "W = 5\n",
        "\n",
        "fig, axes = plt.subplots(L, W, figsize = (24, 24))\n",
        "axes = axes.ravel()\n",
        "\n",
        "for i in np.arange(0, L*W):\n",
        "    axes[i].imshow(X_Test[i].reshape(48,48), cmap = 'gray')\n",
        "    axes[i].set_title('Prediction = {}\\n True = {}'.format(label_to_text[predicted_classes[i]], label_to_text[y_true[i]]))\n",
        "    axes[i].axis('off')\n",
        "\n",
        "plt.subplots_adjust(wspace = 1)   "
      ],
      "execution_count": 43,
      "outputs": [
        {
          "output_type": "display_data",
          "data": {
            "image/png": "[encoded data removed]",
            "text/plain": [
              "<Figure size 1728x1728 with 25 Axes>"
            ]
          },
          "metadata": {
            "tags": [],
            "needs_background": "light"
          }
        }
      ]
    },
    {
      "cell_type": "code",
      "metadata": {
        "id": "iFFo_9evSZb2",
        "colab_type": "code",
        "colab": {
          "base_uri": "https://localhost:8080/",
          "height": 221
        },
        "outputId": "0651a899-b9b7-4166-d0a4-b66cebb532fa"
      },
      "source": [
        "from sklearn.metrics import classification_report\n",
        "print(classification_report(y_true, predicted_classes))"
      ],
      "execution_count": 44,
      "outputs": [
        {
          "output_type": "stream",
          "text": [
            "              precision    recall  f1-score   support\n",
            "\n",
            "           0       0.65      0.54      0.59       243\n",
            "           1       0.52      0.52      0.52        23\n",
            "           2       0.66      0.68      0.67       307\n",
            "           3       0.78      0.89      0.83       449\n",
            "           4       0.86      0.72      0.78       207\n",
            "\n",
            "    accuracy                           0.73      1229\n",
            "   macro avg       0.69      0.67      0.68      1229\n",
            "weighted avg       0.73      0.73      0.73      1229\n",
            "\n"
          ],
          "name": "stdout"
        }
      ]
    },
    {
      "cell_type": "markdown",
      "metadata": {
        "id": "bxC2QvC_SZcD",
        "colab_type": "text"
      },
      "source": [
        "https://keras.io/api/preprocessing/image/"
      ]
    },
    {
      "cell_type": "markdown",
      "metadata": {
        "id": "t-1ssOe3SZcF",
        "colab_type": "text"
      },
      "source": [
        "https://medium.com/analytics-vidhya/cnns-architectures-lenet-alexnet-vgg-googlenet-resnet-and-more-666091488df5"
      ]
    }
  ]
}